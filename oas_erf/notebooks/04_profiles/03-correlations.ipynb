{
 "cells": [
  {
   "cell_type": "markdown",
   "metadata": {},
   "source": [
    "## Plot correlation profile plot:"
   ]
  },
  {
   "cell_type": "code",
   "execution_count": 1,
   "metadata": {},
   "outputs": [],
   "source": [
    "\n",
    "import cartopy.crs as ccrs\n",
    "import matplotlib.ticker as mtick\n",
    "\n",
    "from useful_scit.util.zarray import corr_weight\n",
    "\n",
    "from matplotlib import gridspec"
   ]
  },
  {
   "cell_type": "code",
   "execution_count": 2,
   "metadata": {},
   "outputs": [
    {
     "name": "stdout",
     "output_type": "stream",
     "text": [
      "/home/ubuntu/mnts/nird/projects/SECT_SENS/sect_sens/data_info/area_defs.csv\n",
      "The autoreload extension is already loaded. To reload it, use:\n",
      "  %reload_ext autoreload\n"
     ]
    }
   ],
   "source": [
    "import matplotlib.colors as colors\n",
    "# load and autoreload\n",
    "from IPython import get_ipython\n",
    "from useful_scit.imps import (np, plt)\n",
    "\n",
    "from sect_sens.constants import get_plotpath\n",
    "from sect_sens.data_info import get_nice_name_case, get_nice_name_area\n",
    "from sect_sens.data_info.simulation_types import get_casen_by_type_mod\n",
    "from sect_sens.util.imports.get_fld_fixed import get_field_fixed\n",
    "from sect_sens.util.naming_conventions.var_info import get_fancy_var_name, get_fancy_unit_xr\n",
    "from sect_sens.util.plot import plot_maps\n",
    "from sect_sens.util.practical_functions import make_folders\n",
    "# noinspection PyBroadException\n",
    "from sect_sens.util.slice_average.avg_pkg import get_mask_ds, average_model_var\n",
    "\n",
    "try:\n",
    "    _ipython = get_ipython()\n",
    "    _magic = _ipython.magic\n",
    "    _magic('load_ext autoreload')\n",
    "    _magic('autoreload 2')\n",
    "except:\n",
    "    pass"
   ]
  },
  {
   "cell_type": "markdown",
   "metadata": {},
   "source": [
    "### Div settings:"
   ]
  },
  {
   "cell_type": "code",
   "execution_count": 3,
   "metadata": {},
   "outputs": [],
   "source": [
    "from useful_scit.plot.fig_manip import subp_insert_abc\n",
    "\n",
    "\n",
    "\n",
    "\n",
    "startyear = '0004-01'\n",
    "endyear = '0008-12'\n",
    "pressure_adjust = True  # Can only be false if"
   ]
  },
  {
   "cell_type": "markdown",
   "metadata": {},
   "source": [
    "### Cases"
   ]
  },
  {
   "cell_type": "code",
   "execution_count": 4,
   "metadata": {},
   "outputs": [],
   "source": [
    "cases_sec = [\n",
    "    'NF1850_SECT_ctrl',\n",
    "    'NF1850_aeroxid2014_SECT_ctrl'\n",
    "]\n",
    "cases_orig = [\n",
    "    'NF1850_noSECT_def',\n",
    "    'NF1850_aeroxid2014_noSECT_def',\n",
    "    'NF1850_aeroxid2014_noSECT_ox_ricc',\n",
    "    'NF1850_noSECT_ox_ricc'\n",
    "]\n",
    "cases = cases_orig + cases_sec"
   ]
  },
  {
   "cell_type": "markdown",
   "metadata": {},
   "source": [
    "## Filenames"
   ]
  },
  {
   "cell_type": "code",
   "execution_count": 5,
   "metadata": {},
   "outputs": [],
   "source": [
    "version = 'corrs'\n",
    "plot_path = get_plotpath('profiles')\n",
    "filen_base = plot_path + '/_%s' % version\n",
    "make_folders(plot_path)"
   ]
  },
  {
   "cell_type": "code",
   "execution_count": null,
   "metadata": {},
   "outputs": [],
   "source": []
  },
  {
   "cell_type": "code",
   "execution_count": 6,
   "metadata": {
    "lines_to_next_cell": 1
   },
   "outputs": [
    {
     "name": "stderr",
     "output_type": "stream",
     "text": [
      "/persistent01/miniconda3/envs/env_sec_v2/lib/python3.6/site-packages/xarray/coding/times.py:426: SerializationWarning: Unable to decode time axis into full numpy.datetime64 objects, continuing using cftime.datetime objects instead, reason: dates out of range\n",
      "  dtype = _decode_cf_datetime_dtype(data, units, calendar, self.use_cftime)\n",
      "/persistent01/miniconda3/envs/env_sec_v2/lib/python3.6/site-packages/numpy/core/_asarray.py:85: SerializationWarning: Unable to decode time axis into full numpy.datetime64 objects, continuing using cftime.datetime objects instead, reason: dates out of range\n",
      "  return array(a, dtype, copy=False, order=order)\n"
     ]
    },
    {
     "name": "stdout",
     "output_type": "stream",
     "text": [
      "found contants file /home/ubuntu/mnts/nird/projects//Output_data_SECT_SENS//computed_fields_ng/NorESM/NF1850_noSECT_def/constants.nc\n"
     ]
    },
    {
     "name": "stderr",
     "output_type": "stream",
     "text": [
      "/persistent01/miniconda3/envs/env_sec_v2/lib/python3.6/site-packages/xarray/coding/times.py:426: SerializationWarning: Unable to decode time axis into full numpy.datetime64 objects, continuing using cftime.datetime objects instead, reason: dates out of range\n",
      "  dtype = _decode_cf_datetime_dtype(data, units, calendar, self.use_cftime)\n",
      "/persistent01/miniconda3/envs/env_sec_v2/lib/python3.6/site-packages/numpy/core/_asarray.py:85: SerializationWarning: Unable to decode time axis into full numpy.datetime64 objects, continuing using cftime.datetime objects instead, reason: dates out of range\n",
      "  return array(a, dtype, copy=False, order=order)\n"
     ]
    },
    {
     "name": "stdout",
     "output_type": "stream",
     "text": [
      "found contants file /home/ubuntu/mnts/nird/projects//Output_data_SECT_SENS//computed_fields_ng/NorESM/NF1850_aeroxid2014_noSECT_def/constants.nc\n"
     ]
    },
    {
     "name": "stderr",
     "output_type": "stream",
     "text": [
      "/persistent01/miniconda3/envs/env_sec_v2/lib/python3.6/site-packages/xarray/coding/times.py:426: SerializationWarning: Unable to decode time axis into full numpy.datetime64 objects, continuing using cftime.datetime objects instead, reason: dates out of range\n",
      "  dtype = _decode_cf_datetime_dtype(data, units, calendar, self.use_cftime)\n",
      "/persistent01/miniconda3/envs/env_sec_v2/lib/python3.6/site-packages/numpy/core/_asarray.py:85: SerializationWarning: Unable to decode time axis into full numpy.datetime64 objects, continuing using cftime.datetime objects instead, reason: dates out of range\n",
      "  return array(a, dtype, copy=False, order=order)\n"
     ]
    },
    {
     "name": "stdout",
     "output_type": "stream",
     "text": [
      "found contants file /home/ubuntu/mnts/nird/projects//Output_data_SECT_SENS//computed_fields_ng/NorESM/NF1850_aeroxid2014_noSECT_ox_ricc/constants.nc\n"
     ]
    },
    {
     "name": "stderr",
     "output_type": "stream",
     "text": [
      "/persistent01/miniconda3/envs/env_sec_v2/lib/python3.6/site-packages/xarray/coding/times.py:426: SerializationWarning: Unable to decode time axis into full numpy.datetime64 objects, continuing using cftime.datetime objects instead, reason: dates out of range\n",
      "  dtype = _decode_cf_datetime_dtype(data, units, calendar, self.use_cftime)\n",
      "/persistent01/miniconda3/envs/env_sec_v2/lib/python3.6/site-packages/numpy/core/_asarray.py:85: SerializationWarning: Unable to decode time axis into full numpy.datetime64 objects, continuing using cftime.datetime objects instead, reason: dates out of range\n",
      "  return array(a, dtype, copy=False, order=order)\n"
     ]
    },
    {
     "name": "stdout",
     "output_type": "stream",
     "text": [
      "found contants file /home/ubuntu/mnts/nird/projects//Output_data_SECT_SENS//computed_fields_ng/NorESM/NF1850_noSECT_ox_ricc/constants.nc\n"
     ]
    },
    {
     "name": "stderr",
     "output_type": "stream",
     "text": [
      "/persistent01/miniconda3/envs/env_sec_v2/lib/python3.6/site-packages/xarray/coding/times.py:426: SerializationWarning: Unable to decode time axis into full numpy.datetime64 objects, continuing using cftime.datetime objects instead, reason: dates out of range\n",
      "  dtype = _decode_cf_datetime_dtype(data, units, calendar, self.use_cftime)\n",
      "/persistent01/miniconda3/envs/env_sec_v2/lib/python3.6/site-packages/numpy/core/_asarray.py:85: SerializationWarning: Unable to decode time axis into full numpy.datetime64 objects, continuing using cftime.datetime objects instead, reason: dates out of range\n",
      "  return array(a, dtype, copy=False, order=order)\n"
     ]
    },
    {
     "name": "stdout",
     "output_type": "stream",
     "text": [
      "found contants file /home/ubuntu/mnts/nird/projects//Output_data_SECT_SENS//computed_fields_ng/NorESM/NF1850_SECT_ctrl/constants.nc\n"
     ]
    },
    {
     "name": "stderr",
     "output_type": "stream",
     "text": [
      "/persistent01/miniconda3/envs/env_sec_v2/lib/python3.6/site-packages/xarray/coding/times.py:426: SerializationWarning: Unable to decode time axis into full numpy.datetime64 objects, continuing using cftime.datetime objects instead, reason: dates out of range\n",
      "  dtype = _decode_cf_datetime_dtype(data, units, calendar, self.use_cftime)\n",
      "/persistent01/miniconda3/envs/env_sec_v2/lib/python3.6/site-packages/numpy/core/_asarray.py:85: SerializationWarning: Unable to decode time axis into full numpy.datetime64 objects, continuing using cftime.datetime objects instead, reason: dates out of range\n",
      "  return array(a, dtype, copy=False, order=order)\n"
     ]
    },
    {
     "name": "stdout",
     "output_type": "stream",
     "text": [
      "found contants file /home/ubuntu/mnts/nird/projects//Output_data_SECT_SENS//computed_fields_ng/NorESM/NF1850_aeroxid2014_SECT_ctrl/constants.nc\n"
     ]
    }
   ],
   "source": [
    "var_subl = ['FREQL', 'SOA_A1', 'NCONC01', 'AWNC_incld', 'AREL_incld', 'NMR01', 'HYGRO01', 'N_AER', 'N50', 'N100',\n",
    "            'N150', 'N200', 'N250']\n",
    "cases_dic = {}\n",
    "for case in cases:\n",
    "    dummy = get_field_fixed(case,\n",
    "                            var_subl,\n",
    "                            startyear, endyear,\n",
    "                            pressure_adjust=pressure_adjust)\n",
    "    cases_dic[case] = dummy.sel(lev=slice(150, None), ).copy()  # .isel(time=slice(0,36\n",
    "    del dummy"
   ]
  },
  {
   "cell_type": "code",
   "execution_count": 7,
   "metadata": {
    "lines_to_next_cell": 1
   },
   "outputs": [],
   "source": [
    "def corr_plt(var_c=None,\n",
    "             varl_to=None,\n",
    "             case_type=None,\n",
    "             model_types=None,\n",
    "             area='Global',\n",
    "             relative=True,\n",
    "             xlim=None,\n",
    "             figsize=None,\n",
    "             include_title=False,\n",
    "             include_abc=True,\n",
    "             axs=None,\n",
    "             fig=None,\n",
    "             di_corrs=None,\n",
    "             diff_di=None,\n",
    "             FREQL_mean=None,\n",
    "             add_legend=True\n",
    "             ):\n",
    "    if figsize is None:\n",
    "        figsize = [5., 3.7]\n",
    "    if var_c is None:\n",
    "        var_c = 'AWNC_incld'\n",
    "    if varl_to is None:\n",
    "        varl_to = ['N50', 'N100', 'N150', 'N200', 'N250']\n",
    "    if case_type is None:\n",
    "        case_type = 'PI'\n",
    "    if model_types is None:\n",
    "        model_types = ['OsloAeroSec', 'OsloAero$_{def}$', ]\n",
    "\n",
    "    # Create figure:\n",
    "    if axs is None:\n",
    "        fig = plt.figure(constrained_layout=True, figsize=figsize)\n",
    "        widths = [2, 1]\n",
    "        spec5 = fig.add_gridspec(ncols=2, nrows=1, width_ratios=widths, )\n",
    "        # height_ratios=[0.1,10])\n",
    "        # create axes:\n",
    "        axs = [fig.add_subplot(spec5[col]) for col in range(2)]\n",
    "\n",
    "    # Get names of cases from type and model:\n",
    "    case_oth = get_casen_by_type_mod(case_type, model_types[0])\n",
    "    case_ctrl = get_casen_by_type_mod(case_type, model_types[1])\n",
    "    # get nice names or pretty names for plotting\n",
    "    nn_oth = get_nice_name_case(model_types[0])\n",
    "    nn_ctrl = get_nice_name_case(model_types[1])\n",
    "\n",
    "    dim = ['lat', 'lon', 'time']\n",
    "    minp = 850\n",
    "    time_mask = None\n",
    "    # Get and check mask:\n",
    "    if di_corrs is None or diff_di is None:\n",
    "        # Get the correlation in relevant area\n",
    "        di_corrs, diff_di, mask = get_area_corr_diff2(area, case_type, dim, minp,\n",
    "                                                      model_types,\n",
    "                                                      relative,\n",
    "                                                      time_mask,\n",
    "                                                      var_c,\n",
    "                                                      varl_to)\n",
    "    cols = plt.cm.cividis(np.linspace(0, 1, len(varl_to)))\n",
    "\n",
    "    # plot FREQL:\n",
    "    if FREQL_mean is None:\n",
    "        # Get mean of FREQL to plot water content:\n",
    "        mask = check_mask(area, dim, minp, time_mask, var_c, cases_dic[case_oth])\n",
    "        _ds = average_model_var(cases_dic[case_oth].where(~mask), 'FREQL', dim=dim)\n",
    "    else:\n",
    "        _ds = FREQL_mean\n",
    "\n",
    "    # Add extry x axis for plotting liquid water content:\n",
    "    ax_t = axs[0].twiny()\n",
    "    ax_t.fill_betweenx(_ds['lev'], -_ds['FREQL'] / 2, _ds['FREQL'] / 2, alpha=.2)\n",
    "    ax_t.tick_params(top=False, bottom=False, left=False, right=False, labeltop=False, labelbottom=False)\n",
    "    ax_t.spines['right'].set_visible(False)\n",
    "    ax_t.spines['top'].set_visible(False)\n",
    "    m = np.max(np.abs(ax_t.get_xlim()))\n",
    "    ax_t.set_xlim([-m, m])\n",
    "\n",
    "    # Plot correlations:\n",
    "    ax = axs[0]\n",
    "    for j, var in enumerate(varl_to):\n",
    "        _da_corr = di_corrs[var]\n",
    "        label = fr'$\\Delta${get_fancy_var_name(var)}'  # )\n",
    "        _da_corr.plot(y='lev', c=cols[j], ax=ax, label=label)\n",
    "    # Plot difference\n",
    "    for j, var in enumerate(varl_to):\n",
    "        _da_diff = diff_di[var][var]\n",
    "        label = fr'$\\Delta${get_fancy_var_name(var)}'  # )\n",
    "        w = _da_diff.lev >= _da_diff.sel(lev=200, method='nearest').lev\n",
    "        _da_diff.where(w).plot(y='lev', c=cols[j], ax=axs[1], label=label)\n",
    "    # title:\n",
    "    area_nn = get_nice_name_area(area)\n",
    "    title = fr'{area_nn}, {case_type}: $\\Delta V = V_x - V_y$, \\n x={nn_oth}, y={nn_ctrl}'\n",
    "    if not include_title:\n",
    "        title = ''\n",
    "    stit = plt.suptitle(title, y=1.1)\n",
    "\n",
    "    # Tweak axis:\n",
    "    tweak_axis_apperance(_ds, add_legend, axs, include_abc, relative, var_c, varl_to, xlim)\n",
    "\n",
    "    fn = filen_base + f'_N_{var_c}_{case_oth}_{case_ctrl}_{area}_{startyear}-{endyear}_{str(relative)}'\n",
    "    print(fn)\n",
    "    # plt.savefig(fn + '.pdf', bbox_extra_artists=(stit,),bbox_inches='tight')\n",
    "    return fig, axs, fn, stit\n",
    "\n",
    "def tweak_axis_apperance(_ds,\n",
    "                         add_legend, axs,\n",
    "                         include_abc, relative, var_c,\n",
    "                         varl_to, xlim):\n",
    "    \"\"\"\n",
    "    Various fixes to axis appearance\n",
    "    :param _ds:\n",
    "    :param add_legend:\n",
    "    :param axs:\n",
    "    :param include_abc:\n",
    "    :param relative:\n",
    "    :param var_c:\n",
    "    :param varl_to:\n",
    "    :param xlim:\n",
    "    :return:\n",
    "    \"\"\"\n",
    "    for ax in axs:\n",
    "        ax.set_yscale('log')\n",
    "        ax.set_ylim([1e3, 200])\n",
    "        ax.yaxis.set_major_formatter(mtick.FormatStrFormatter('%.0f'))\n",
    "        ax.yaxis.set_minor_formatter(mtick.FormatStrFormatter('%.0f'))\n",
    "        ax.vlines(0, 200, 1e3, linewidth=1)\n",
    "        ax.set_ylabel('')\n",
    "        ax.set_xlabel('')\n",
    "    # first plot:\n",
    "    ax = axs[0]\n",
    "    ax.set_xlabel(fr'corr($\\Delta {get_fancy_var_name(var_c)},\\Delta X$)')\n",
    "    ax.set_ylabel('Pressure [hPa]')\n",
    "    ax.spines['right'].set_visible(False)\n",
    "    ax.spines['top'].set_visible(False)\n",
    "    if xlim is None:\n",
    "        m = np.max(np.abs(ax.get_xlim()))\n",
    "        xlim = [-m, m]\n",
    "    ax.set_xlim(xlim)\n",
    "    # second plot:\n",
    "    ax = axs[1]\n",
    "    v = varl_to[0]\n",
    "    if relative:\n",
    "        unit = '[%]'\n",
    "    else:\n",
    "        unit = f'{get_fancy_unit_xr(_ds[v], v)}'\n",
    "    ax.set_xlabel(fr'$\\Delta X$ [{unit}]')\n",
    "    ax.yaxis.set_major_formatter(mtick.NullFormatter())\n",
    "    ax.yaxis.set_minor_formatter(mtick.NullFormatter())\n",
    "    ax: plt.axes\n",
    "    ax.spines['right'].set_visible(False)\n",
    "    ax.spines['top'].set_visible(False)\n",
    "    if add_legend:\n",
    "        ax.legend(frameon=True, loc='upper left')  # , borderaxespad=0.)\n",
    "    # subp_insert_abc(np.array(axs), pos_x=1.13,pos_y=1.01)\n",
    "    if include_abc:\n",
    "        subp_insert_abc(np.array(axs), pos_x=-0.2, pos_y=-.05)\n",
    "\n",
    "def get_area_corr_diff2(area, case_type, dim, minp, model_types, relative,\n",
    "                        time_mask, var_c, varl_to):\n",
    "    \"\"\"\n",
    "    Get correlation within area of change in for variable (var_c) to variables (varl_to)\n",
    "    from case type and model type\n",
    "    :param area:\n",
    "    :param case_type:\n",
    "    :param dim:\n",
    "    :param minp:\n",
    "    :param model_types:\n",
    "    :param relative:\n",
    "    :param time_mask:\n",
    "    :param var_c:\n",
    "    :param varl_to:\n",
    "    :return:\n",
    "    \"\"\"\n",
    "    case_oth = get_casen_by_type_mod(case_type, model_types[0])\n",
    "    case_ctrl = get_casen_by_type_mod(case_type, model_types[1])\n",
    "    di_corrs, diff_di, mask = get_area_corr_diff(area, case_ctrl, case_oth, dim, minp, relative, time_mask, var_c,\n",
    "                                                 varl_to)\n",
    "    return di_corrs, diff_di, mask  # case_ctrl, case_oth, di_corrs, diff_di, mask, nn_ctrl, nn_oth\n",
    "\n",
    "def get_area_corr_diff(area, case_ctrl,\n",
    "                       case_oth, dim, minp,\n",
    "                       relative, time_mask,\n",
    "                       var_c, varl_to, mask=None):\n",
    "    \"\"\"\n",
    "        Get correlation within area of change in for variable (var_c) to variables (varl_to)\n",
    "    from case_ctrl and case_oth\n",
    "    :param area:\n",
    "    :param case_ctrl:\n",
    "    :param case_oth:\n",
    "    :param dim:\n",
    "    :param minp:\n",
    "    :param relative:\n",
    "    :param time_mask:\n",
    "    :param var_c:\n",
    "    :param varl_to:\n",
    "    :param mask:\n",
    "    :return:\n",
    "    \"\"\"\n",
    "    xr_ds = cases_dic[case_ctrl]  # [var_c]\n",
    "    if mask is None:\n",
    "        mask = check_mask(area, dim, minp, time_mask, var_c, xr_ds)\n",
    "    # Compute correlations and differences\n",
    "    diff_di = {}\n",
    "    di_corrs = {}\n",
    "    for j, var in enumerate(varl_to):\n",
    "        _vars = [var, var_c]\n",
    "        _ds = (cases_dic[case_oth][_vars] - cases_dic[case_ctrl][_vars])  # /cases_dic[case_ctrl][_vars]\n",
    "        # mask difference\n",
    "        _ds = _ds.where(~mask)\n",
    "        # average masked:\n",
    "        if relative:\n",
    "            _ds_ctrl = cases_dic[case_ctrl].where(~mask)\n",
    "            _ds_ctrl = average_model_var(_ds_ctrl, var, dim=dim)\n",
    "            _ds_diff = average_model_var(_ds, var, dim=dim)\n",
    "            diff_di[var] = _ds_diff / (_ds_ctrl + 1e-30) * 100\n",
    "        else:\n",
    "            diff_di[var] = average_model_var(_ds, var, dim=dim)\n",
    "        # correlation:\n",
    "        # _da_corr = corr(_ds[var], _ds[var_c], dim=['time', 'lon', 'lat'])\n",
    "        _da_corr = corr_weight(_ds[var], _ds[var_c], xr_ds['lat_wg'], dim=['time', 'lon', 'lat'])\n",
    "\n",
    "        di_corrs[var] = _da_corr.copy()\n",
    "    return di_corrs, diff_di, mask\n",
    "\n",
    "def check_mask(area, dim, minp, time_mask, var_c, xr_ds, plt_map=False):\n",
    "    mask = get_mask_ds(area, dim, minp, time_mask, var_c, xr_ds)\n",
    "    if plt_map:\n",
    "        fig, ax = plot_maps.subplots_map(1)\n",
    "        xr_ds.where(~mask).isel(lev=1, time=0)['N50'].plot(transform=ccrs.PlateCarree(), ax=ax)\n",
    "        plot_maps.fix_axis4map_plot(ax)\n",
    "        plt.show()\n",
    "    return mask"
   ]
  },
  {
   "cell_type": "code",
   "execution_count": null,
   "metadata": {},
   "outputs": [],
   "source": []
  },
  {
   "cell_type": "code",
   "execution_count": 8,
   "metadata": {
    "lines_to_next_cell": 1,
    "title": "# removable:"
   },
   "outputs": [],
   "source": [
    "\n",
    "def plot_several_areas(varl_to=None,\n",
    "                       var_c=None,\n",
    "                       relative=False,\n",
    "                       case_types=None,\n",
    "                       areas=None,\n",
    "                       model_types=None,\n",
    "                       include_abc=True):\n",
    "\n",
    "    # Set default values:\n",
    "    if areas is None:\n",
    "        areas = ['Global', 'Antarctic', 'Pacific S', 'Pacific N']\n",
    "    if var_c is None:\n",
    "        var_c = 'AWNC_incld'\n",
    "    if varl_to is None:\n",
    "        varl_to = ['N50', 'N100', 'N150', 'N200', 'N250']\n",
    "    if model_types is None:\n",
    "        model_types = ['OsloAeroSec', 'OsloAero$_{def}$', ]\n",
    "    if case_types is None:\n",
    "        case_types = ['PI', 'PD']\n",
    "\n",
    "    # Create figure:\n",
    "    fig, spec5 = create_figure_big_plot(areas, case_types)\n",
    "\n",
    "    axs_num = []\n",
    "    for j, area in enumerate(areas):\n",
    "        print(j, area)\n",
    "\n",
    "        for i, case_type in enumerate(case_types):\n",
    "            print(i)\n",
    "\n",
    "            axs = [fig.add_subplot(spec5[2 + j * 2, 3 * i + col]) for col in range(2)]\n",
    "            axs_num.append(axs[0])\n",
    "            fig, axs, fn, stit = corr_plt(var_c=None,\n",
    "                                          varl_to=None,\n",
    "                                          case_type=case_type,\n",
    "                                          model_types=model_types,\n",
    "                                          area=area,\n",
    "                                          relative=False,\n",
    "                                          xlim=[-.50, .50],\n",
    "                                          axs=axs,\n",
    "                                          fig=fig,\n",
    "                                          include_abc=False,\n",
    "                                          add_legend=False\n",
    "                                          )\n",
    "            fix_subplot_corr(area, areas, axs, fig, i, j, spec5)\n",
    "    ax = fig.add_subplot(spec5[-1, :])\n",
    "    ax.axis('off')\n",
    "    from matplotlib.lines import Line2D\n",
    "\n",
    "    cols = plt.cm.cividis(np.linspace(0, 1, len(varl_to)))\n",
    "    custom_lines = []\n",
    "    labs = []\n",
    "    for i, var in enumerate(varl_to):\n",
    "        label = fr'$\\Delta${get_fancy_var_name(var)}'  # )\n",
    "        labs.append(label)\n",
    "        custom_lines.append(Line2D([0], [0], color=cols[i], label=label))\n",
    "\n",
    "    legend = ax.legend(custom_lines, labs, ncol=len(varl_to),\n",
    "                       loc='lower center', bbox_to_anchor=(0., 0., 1, .01),\n",
    "                       frameon=False\n",
    "                       )\n",
    "    # frame = legend.get_frame()\n",
    "    # frame.set_color('white')\n",
    "\n",
    "    # plt.subplots_adjust(wspace=None, hspace=None)\n",
    "    # spec5.update(wspace=0.025, hspace=0.05) # set the spacing between axes.\n",
    "    fn = create_fn_figplot(areas, case_types, model_types, relative, var_c)\n",
    "    if include_abc:\n",
    "        subp_insert_abc(np.array(axs_num), pos_x=0.05, pos_y=.9)\n",
    "\n",
    "    plt.savefig(fn + '.pdf', dpi=300)\n",
    "    plt.show()\n",
    "\n",
    "def create_fn_figplot(areas, case_types, model_types, relative, var_c):\n",
    "    mt_st = '_'.join(model_types).replace(' ', '-').replace('$', '').replace('{', '').replace('}', '')\n",
    "    ct_st = '_'.join(case_types).replace(' ', '-').replace('$', '').replace('{', '').replace('}', '')\n",
    "    ar_st = '_'.join(areas).replace(' ', '-')\n",
    "    # fn ='/home/ubuntu/mnts/nird/projects//Plots_SECT_SENS//profiles//test.png'\n",
    "    fn = filen_base + f'_N_{var_c}_{mt_st}_{ct_st}_{ar_st}_{startyear}-{endyear}_{str(relative)}'\n",
    "    return fn\n",
    "\n",
    "def create_figure_big_plot(areas, case_types):\n",
    "    figsize = [3.2 * len(case_types), 2.4 * len(areas)]\n",
    "    fig = plt.figure(constrained_layout=True, figsize=figsize)\n",
    "    widths_ratios = [2, 1, 0.5] * len(case_types)\n",
    "    widths_ratios = widths_ratios[:-1]\n",
    "    ncols = len(widths_ratios)\n",
    "    height_ratios = [.1, 3] + [10, 4] * len(areas) + [.1]\n",
    "    nrows = len(height_ratios)\n",
    "    case_type_nn_dic = {'PI': 'Pre-industrial', 'PD': 'Present day'}\n",
    "    spec5 = gridspec.GridSpec(nrows=nrows, ncols=ncols,\n",
    "                              height_ratios=height_ratios,\n",
    "                              width_ratios=widths_ratios,\n",
    "                              hspace=.1, wspace=.2, bottom=0, top=0.97,\n",
    "                              left=0.12, right=0.95,\n",
    "                              )\n",
    "    for i, case_type in enumerate(case_types):\n",
    "\n",
    "        if case_type in case_type_nn_dic:\n",
    "            cs_nn = case_type_nn_dic[case_type]\n",
    "        else:\n",
    "            cs_nn = case_type\n",
    "        tit_ax = fig.add_subplot(spec5[1, (3 * i):(3 * i + 2)])\n",
    "        plt.text(0.5, .5, cs_nn,\n",
    "                 ha='center',\n",
    "                 va='bottom',\n",
    "                 fontsize=14,\n",
    "                 transform=tit_ax.transAxes)\n",
    "    return fig, spec5\n",
    "\n",
    "def fix_subplot_corr(area, areas, axs, fig, i, j, spec5):\n",
    "    if i > 0:\n",
    "        axs[0].set_ylabel('')\n",
    "        axs[0].set_ylabel('')\n",
    "        axs[0].yaxis.set_major_formatter(mtick.NullFormatter())\n",
    "        axs[0].yaxis.set_minor_formatter(mtick.NullFormatter())\n",
    "    if j < (len(areas) - 1):\n",
    "        axs[0].set_xlabel('')\n",
    "        axs[1].set_xlabel('')\n",
    "    tit_ax = fig.add_subplot(spec5[1 + j * 2, (3 * i):(3 * i + 2)])\n",
    "    arnn = get_nice_name_area(area)\n",
    "    tit = f'{arnn}'\n",
    "    tit_ax.set_title(tit, y=-.2)  # , pad=-14)\n",
    "    tit_ax.axis('off')"
   ]
  },
  {
   "cell_type": "code",
   "execution_count": 9,
   "metadata": {},
   "outputs": [
    {
     "name": "stdout",
     "output_type": "stream",
     "text": [
      "0 Global\n",
      "0\n",
      "CALCULATING WEIGHTED CORR\n",
      "['time', 'lon', 'lat']\n",
      "('time', 'lev', 'lat', 'lon')\n",
      "CALCULATING WEIGHTED CORR\n",
      "['time', 'lon', 'lat']\n",
      "('time', 'lev', 'lat', 'lon')\n",
      "CALCULATING WEIGHTED CORR\n",
      "['time', 'lon', 'lat']\n",
      "('time', 'lev', 'lat', 'lon')\n",
      "CALCULATING WEIGHTED CORR\n",
      "['time', 'lon', 'lat']\n",
      "('time', 'lev', 'lat', 'lon')\n",
      "CALCULATING WEIGHTED CORR\n",
      "['time', 'lon', 'lat']\n",
      "('time', 'lev', 'lat', 'lon')\n",
      "/home/ubuntu/mnts/nird/projects//Plots_SECT_SENS//profiles//_corrs_N_AWNC_incld_NF1850_SECT_ctrl_NF1850_noSECT_def_Global_0004-01-0008-12_False\n",
      "1\n"
     ]
    },
    {
     "name": "stderr",
     "output_type": "stream",
     "text": [
      "/persistent01/miniconda3/envs/env_sec_v2/lib/python3.6/site-packages/ipykernel_launcher.py:120: MatplotlibDeprecationWarning: Adding an axes using the same arguments as a previous axes currently reuses the earlier instance.  In a future version, a new instance will always be created and returned.  Meanwhile, this warning can be suppressed, and the future behavior ensured, by passing a unique label to each axes instance.\n"
     ]
    },
    {
     "name": "stdout",
     "output_type": "stream",
     "text": [
      "CALCULATING WEIGHTED CORR\n",
      "['time', 'lon', 'lat']\n",
      "('time', 'lev', 'lat', 'lon')\n",
      "CALCULATING WEIGHTED CORR\n",
      "['time', 'lon', 'lat']\n",
      "('time', 'lev', 'lat', 'lon')\n",
      "CALCULATING WEIGHTED CORR\n",
      "['time', 'lon', 'lat']\n",
      "('time', 'lev', 'lat', 'lon')\n",
      "CALCULATING WEIGHTED CORR\n",
      "['time', 'lon', 'lat']\n",
      "('time', 'lev', 'lat', 'lon')\n",
      "CALCULATING WEIGHTED CORR\n",
      "['time', 'lon', 'lat']\n",
      "('time', 'lev', 'lat', 'lon')\n",
      "/home/ubuntu/mnts/nird/projects//Plots_SECT_SENS//profiles//_corrs_N_AWNC_incld_NF1850_aeroxid2014_SECT_ctrl_NF1850_aeroxid2014_noSECT_def_Global_0004-01-0008-12_False\n",
      "1 Antarctic\n",
      "0\n"
     ]
    },
    {
     "name": "stderr",
     "output_type": "stream",
     "text": [
      "/persistent01/miniconda3/envs/env_sec_v2/lib/python3.6/site-packages/ipykernel_launcher.py:120: MatplotlibDeprecationWarning: Adding an axes using the same arguments as a previous axes currently reuses the earlier instance.  In a future version, a new instance will always be created and returned.  Meanwhile, this warning can be suppressed, and the future behavior ensured, by passing a unique label to each axes instance.\n"
     ]
    },
    {
     "name": "stdout",
     "output_type": "stream",
     "text": [
      "CALCULATING WEIGHTED CORR\n",
      "['time', 'lon', 'lat']\n",
      "('time', 'lev', 'lat', 'lon')\n",
      "CALCULATING WEIGHTED CORR\n",
      "['time', 'lon', 'lat']\n",
      "('time', 'lev', 'lat', 'lon')\n",
      "CALCULATING WEIGHTED CORR\n",
      "['time', 'lon', 'lat']\n",
      "('time', 'lev', 'lat', 'lon')\n",
      "CALCULATING WEIGHTED CORR\n",
      "['time', 'lon', 'lat']\n",
      "('time', 'lev', 'lat', 'lon')\n",
      "CALCULATING WEIGHTED CORR\n",
      "['time', 'lon', 'lat']\n",
      "('time', 'lev', 'lat', 'lon')\n"
     ]
    },
    {
     "name": "stderr",
     "output_type": "stream",
     "text": [
      "/persistent01/miniconda3/envs/env_sec_v2/lib/python3.6/site-packages/dask/core.py:121: RuntimeWarning: invalid value encountered in true_divide\n",
      "  return func(*(_execute_task(a, cache) for a in args))\n",
      "/persistent01/miniconda3/envs/env_sec_v2/lib/python3.6/site-packages/dask/core.py:121: RuntimeWarning: invalid value encountered in true_divide\n",
      "  return func(*(_execute_task(a, cache) for a in args))\n",
      "/persistent01/miniconda3/envs/env_sec_v2/lib/python3.6/site-packages/dask/core.py:121: RuntimeWarning: invalid value encountered in true_divide\n",
      "  return func(*(_execute_task(a, cache) for a in args))\n",
      "/persistent01/miniconda3/envs/env_sec_v2/lib/python3.6/site-packages/dask/core.py:121: RuntimeWarning: invalid value encountered in true_divide\n",
      "  return func(*(_execute_task(a, cache) for a in args))\n",
      "/persistent01/miniconda3/envs/env_sec_v2/lib/python3.6/site-packages/dask/core.py:121: RuntimeWarning: invalid value encountered in true_divide\n",
      "  return func(*(_execute_task(a, cache) for a in args))\n"
     ]
    },
    {
     "name": "stdout",
     "output_type": "stream",
     "text": [
      "/home/ubuntu/mnts/nird/projects//Plots_SECT_SENS//profiles//_corrs_N_AWNC_incld_NF1850_SECT_ctrl_NF1850_noSECT_def_Antarctic_0004-01-0008-12_False\n",
      "1\n",
      "CALCULATING WEIGHTED CORR\n",
      "['time', 'lon', 'lat']\n",
      "('time', 'lev', 'lat', 'lon')\n",
      "CALCULATING WEIGHTED CORR\n",
      "['time', 'lon', 'lat']\n",
      "('time', 'lev', 'lat', 'lon')\n",
      "CALCULATING WEIGHTED CORR\n",
      "['time', 'lon', 'lat']\n",
      "('time', 'lev', 'lat', 'lon')\n",
      "CALCULATING WEIGHTED CORR\n",
      "['time', 'lon', 'lat']\n",
      "('time', 'lev', 'lat', 'lon')\n",
      "CALCULATING WEIGHTED CORR\n",
      "['time', 'lon', 'lat']\n",
      "('time', 'lev', 'lat', 'lon')\n"
     ]
    },
    {
     "name": "stderr",
     "output_type": "stream",
     "text": [
      "/persistent01/miniconda3/envs/env_sec_v2/lib/python3.6/site-packages/dask/core.py:121: RuntimeWarning: invalid value encountered in true_divide\n",
      "  return func(*(_execute_task(a, cache) for a in args))\n",
      "/persistent01/miniconda3/envs/env_sec_v2/lib/python3.6/site-packages/dask/core.py:121: RuntimeWarning: invalid value encountered in true_divide\n",
      "  return func(*(_execute_task(a, cache) for a in args))\n",
      "/persistent01/miniconda3/envs/env_sec_v2/lib/python3.6/site-packages/dask/core.py:121: RuntimeWarning: invalid value encountered in true_divide\n",
      "  return func(*(_execute_task(a, cache) for a in args))\n",
      "/persistent01/miniconda3/envs/env_sec_v2/lib/python3.6/site-packages/dask/core.py:121: RuntimeWarning: invalid value encountered in true_divide\n",
      "  return func(*(_execute_task(a, cache) for a in args))\n",
      "/persistent01/miniconda3/envs/env_sec_v2/lib/python3.6/site-packages/dask/core.py:121: RuntimeWarning: invalid value encountered in true_divide\n",
      "  return func(*(_execute_task(a, cache) for a in args))\n"
     ]
    },
    {
     "name": "stdout",
     "output_type": "stream",
     "text": [
      "/home/ubuntu/mnts/nird/projects//Plots_SECT_SENS//profiles//_corrs_N_AWNC_incld_NF1850_aeroxid2014_SECT_ctrl_NF1850_aeroxid2014_noSECT_def_Antarctic_0004-01-0008-12_False\n",
      "2 Pacific S\n",
      "0\n",
      "CALCULATING WEIGHTED CORR\n",
      "['time', 'lon', 'lat']\n",
      "('time', 'lev', 'lat', 'lon')\n",
      "CALCULATING WEIGHTED CORR\n",
      "['time', 'lon', 'lat']\n",
      "('time', 'lev', 'lat', 'lon')\n",
      "CALCULATING WEIGHTED CORR\n",
      "['time', 'lon', 'lat']\n",
      "('time', 'lev', 'lat', 'lon')\n",
      "CALCULATING WEIGHTED CORR\n",
      "['time', 'lon', 'lat']\n",
      "('time', 'lev', 'lat', 'lon')\n",
      "CALCULATING WEIGHTED CORR\n",
      "['time', 'lon', 'lat']\n",
      "('time', 'lev', 'lat', 'lon')\n",
      "/home/ubuntu/mnts/nird/projects//Plots_SECT_SENS//profiles//_corrs_N_AWNC_incld_NF1850_SECT_ctrl_NF1850_noSECT_def_Pacific S_0004-01-0008-12_False\n",
      "1\n",
      "CALCULATING WEIGHTED CORR\n",
      "['time', 'lon', 'lat']\n",
      "('time', 'lev', 'lat', 'lon')\n",
      "CALCULATING WEIGHTED CORR\n",
      "['time', 'lon', 'lat']\n",
      "('time', 'lev', 'lat', 'lon')\n",
      "CALCULATING WEIGHTED CORR\n",
      "['time', 'lon', 'lat']\n",
      "('time', 'lev', 'lat', 'lon')\n",
      "CALCULATING WEIGHTED CORR\n",
      "['time', 'lon', 'lat']\n",
      "('time', 'lev', 'lat', 'lon')\n",
      "CALCULATING WEIGHTED CORR\n",
      "['time', 'lon', 'lat']\n",
      "('time', 'lev', 'lat', 'lon')\n",
      "/home/ubuntu/mnts/nird/projects//Plots_SECT_SENS//profiles//_corrs_N_AWNC_incld_NF1850_aeroxid2014_SECT_ctrl_NF1850_aeroxid2014_noSECT_def_Pacific S_0004-01-0008-12_False\n",
      "3 Pacific N\n",
      "0\n",
      "CALCULATING WEIGHTED CORR\n",
      "['time', 'lon', 'lat']\n",
      "('time', 'lev', 'lat', 'lon')\n",
      "CALCULATING WEIGHTED CORR\n",
      "['time', 'lon', 'lat']\n",
      "('time', 'lev', 'lat', 'lon')\n",
      "CALCULATING WEIGHTED CORR\n",
      "['time', 'lon', 'lat']\n",
      "('time', 'lev', 'lat', 'lon')\n",
      "CALCULATING WEIGHTED CORR\n",
      "['time', 'lon', 'lat']\n",
      "('time', 'lev', 'lat', 'lon')\n",
      "CALCULATING WEIGHTED CORR\n",
      "['time', 'lon', 'lat']\n",
      "('time', 'lev', 'lat', 'lon')\n",
      "/home/ubuntu/mnts/nird/projects//Plots_SECT_SENS//profiles//_corrs_N_AWNC_incld_NF1850_SECT_ctrl_NF1850_noSECT_def_Pacific N_0004-01-0008-12_False\n",
      "1\n",
      "CALCULATING WEIGHTED CORR\n",
      "['time', 'lon', 'lat']\n",
      "('time', 'lev', 'lat', 'lon')\n",
      "CALCULATING WEIGHTED CORR\n",
      "['time', 'lon', 'lat']\n",
      "('time', 'lev', 'lat', 'lon')\n",
      "CALCULATING WEIGHTED CORR\n",
      "['time', 'lon', 'lat']\n",
      "('time', 'lev', 'lat', 'lon')\n",
      "CALCULATING WEIGHTED CORR\n",
      "['time', 'lon', 'lat']\n",
      "('time', 'lev', 'lat', 'lon')\n",
      "CALCULATING WEIGHTED CORR\n",
      "['time', 'lon', 'lat']\n",
      "('time', 'lev', 'lat', 'lon')\n",
      "/home/ubuntu/mnts/nird/projects//Plots_SECT_SENS//profiles//_corrs_N_AWNC_incld_NF1850_aeroxid2014_SECT_ctrl_NF1850_aeroxid2014_noSECT_def_Pacific N_0004-01-0008-12_False\n"
     ]
    },
    {
     "name": "stderr",
     "output_type": "stream",
     "text": [
      "/persistent01/miniconda3/envs/env_sec_v2/lib/python3.6/site-packages/ipykernel_launcher.py:71: UserWarning: Calling figure.constrained_layout, but figure not setup to do constrained layout.  You either called GridSpec without the fig keyword, you are using plt.subplot, or you need to call figure or subplots with the constrained_layout=True kwarg.\n",
      "/persistent01/miniconda3/envs/env_sec_v2/lib/python3.6/site-packages/ipykernel_launcher.py:71: UserWarning: Calling figure.constrained_layout, but figure not setup to do constrained layout.  You either called GridSpec without the fig keyword, you are using plt.subplot, or you need to call figure or subplots with the constrained_layout=True kwarg.\n",
      "/persistent01/miniconda3/envs/env_sec_v2/lib/python3.6/site-packages/IPython/core/pylabtools.py:132: UserWarning: Calling figure.constrained_layout, but figure not setup to do constrained layout.  You either called GridSpec without the fig keyword, you are using plt.subplot, or you need to call figure or subplots with the constrained_layout=True kwarg.\n",
      "  fig.canvas.print_figure(bytes_io, **kw)\n"
     ]
    },
    {
     "data": {
      "image/png": "[encoded data removed]",
      "text/plain": [
       "<Figure size 460.8x691.2 with 33 Axes>"
      ]
     },
     "metadata": {
      "needs_background": "light"
     },
     "output_type": "display_data"
    }
   ],
   "source": [
    "plot_several_areas()\n",
    "\n",
    "    # %%"
   ]
  }
 ],
 "metadata": {
  "jupytext": {
   "text_representation": {
    "extension": ".py",
    "format_name": "percent",
    "format_version": "1.3",
    "jupytext_version": "1.3.2"
   }
  },
  "kernelspec": {
   "display_name": "Python 3",
   "language": "python",
   "name": "python3"
  },
  "language_info": {
   "codemirror_mode": {
    "name": "ipython",
    "version": 3
   },
   "file_extension": ".py",
   "mimetype": "text/x-python",
   "name": "python",
   "nbconvert_exporter": "python",
   "pygments_lexer": "ipython3",
   "version": "3.6.7"
  }
 },
 "nbformat": 4,
 "nbformat_minor": 4
}
