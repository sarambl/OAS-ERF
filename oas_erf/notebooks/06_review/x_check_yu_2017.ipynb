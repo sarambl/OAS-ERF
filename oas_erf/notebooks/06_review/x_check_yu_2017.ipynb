{
 "cells": [
  {
   "cell_type": "markdown",
   "metadata": {},
   "source": [
    "## Adding a temperature dependency"
   ]
  },
  {
   "cell_type": "markdown",
   "metadata": {},
   "source": [
    "### Paper reference: Yu et al (2017)\n",
    "Yu, F., Luo, G., Nadykto, A. B., & Herb, J. (2017). Impact of temperature dependence on the possible contribution of organics to new particle formation in the atmosphere. Atmospheric Chemistry and Physics, 17(8), 4997–5005. https://doi.org/10.5194/acp-17-4997-2017\n"
   ]
  },
  {
   "cell_type": "markdown",
   "metadata": {},
   "source": [
    "\\begin{equation}\n",
    "f_T = exp \\Big[ \\frac{\\Delta H}{k} \\big( \\frac{1}{T} - \\frac{1}{T_0} \\big) \\Big]\n",
    "\\end{equation}"
   ]
  },
  {
   "cell_type": "markdown",
   "metadata": {},
   "source": [
    "- Best fit with obsevations according to Yu et al (2017) is by $\\Delta H = 35$ kcal/mol.\n",
    "- $T_0 = 278.$ \n",
    "- $k= 1.380649 \\times 10^{−23}$ J/K\n",
    "- $k = 0.001985875$ kcal/mol/K\n"
   ]
  },
  {
   "cell_type": "markdown",
   "metadata": {},
   "source": [
    "It is unclear how the authors set the maximum value, but they say in the review that they initially used 10 as a max and that the difference was negligible. "
   ]
  },
  {
   "cell_type": "code",
   "execution_count": 1,
   "metadata": {},
   "outputs": [],
   "source": [
    "import numpy as np"
   ]
  },
  {
   "cell_type": "code",
   "execution_count": 97,
   "metadata": {},
   "outputs": [],
   "source": [
    "T_0 = 278\n",
    "k_kcalmolK =  0.001985875 \n",
    "dH = 35\n",
    "\n",
    "def fT(T, max=10):\n",
    "    f =  np.exp(dH/k*(1/T-1/T_0))\n",
    "    if type(T) is np.ndarray:\n",
    "        f[f>10] = 10\n",
    "    else:\n",
    "        f = min(f,10)\n",
    "    return f"
   ]
  },
  {
   "cell_type": "code",
   "execution_count": 98,
   "metadata": {},
   "outputs": [
    {
     "data": {
      "text/plain": [
       "6.5432960174993715"
      ]
     },
     "execution_count": 98,
     "metadata": {},
     "output_type": "execute_result"
    }
   ],
   "source": [
    "fT(270)"
   ]
  },
  {
   "cell_type": "code",
   "execution_count": 99,
   "metadata": {},
   "outputs": [
    {
     "data": {
      "text/plain": [
       "(0.001, 10)"
      ]
     },
     "execution_count": 99,
     "metadata": {},
     "output_type": "execute_result"
    },
    {
     "data": {
      "image/png": "[encoded data removed]",
      "text/plain": [
       "<Figure size 432x288 with 1 Axes>"
      ]
     },
     "metadata": {
      "needs_background": "light"
     },
     "output_type": "display_data"
    }
   ],
   "source": [
    "T = np.linspace(270,310)\n",
    "\n",
    "\n",
    "f = fT(T)\n",
    "\n",
    "import matplotlib.pyplot as plt\n",
    "plt.plot(T,f)\n",
    "plt.yscale('log')\n",
    "plt.xlim([270,310])\n",
    "plt.ylim([1e-3,10])"
   ]
  },
  {
   "cell_type": "code",
   "execution_count": 55,
   "metadata": {},
   "outputs": [],
   "source": [
    "a = [1,2,4]"
   ]
  },
  {
   "cell_type": "code",
   "execution_count": 56,
   "metadata": {},
   "outputs": [
    {
     "data": {
      "text/plain": [
       "[]"
      ]
     },
     "execution_count": 56,
     "metadata": {},
     "output_type": "execute_result"
    }
   ],
   "source": [
    "[]"
   ]
  },
  {
   "cell_type": "code",
   "execution_count": 58,
   "metadata": {},
   "outputs": [
    {
     "data": {
      "text/plain": [
       "numpy.ndarray"
      ]
     },
     "execution_count": 58,
     "metadata": {},
     "output_type": "execute_result"
    }
   ],
   "source": [
    "type(T)"
   ]
  },
  {
   "cell_type": "code",
   "execution_count": null,
   "metadata": {},
   "outputs": [],
   "source": []
  }
 ],
 "metadata": {
  "jupytext": {
   "text_representation": {
    "extension": ".py",
    "format_name": "percent",
    "format_version": "1.3",
    "jupytext_version": "1.3.2"
   }
  },
  "kernelspec": {
   "display_name": "Python 3",
   "language": "python",
   "name": "python3"
  },
  "language_info": {
   "codemirror_mode": {
    "name": "ipython",
    "version": 3
   },
   "file_extension": ".py",
   "mimetype": "text/x-python",
   "name": "python",
   "nbconvert_exporter": "python",
   "pygments_lexer": "ipython3",
   "version": "3.6.7"
  }
 },
 "nbformat": 4,
 "nbformat_minor": 4
}
